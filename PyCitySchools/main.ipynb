{
 "cells": [
  {
   "cell_type": "code",
   "execution_count": 1,
   "id": "7727248f-af1e-4e46-b0f9-19a4228987f1",
   "metadata": {},
   "outputs": [],
   "source": [
    "#Import dependencies\n",
    "import pandas as pd\n",
    "import numpy as np\n",
    "\n",
    "#Make a reference to the csv file paths:\n",
    "school_path = \"Resources/schools_complete.csv\"\n",
    "student_path = \"Resources/students_complete.csv\"\n",
    "\n",
    "# Read School and Student Data File and store into Pandas DataFrames\n",
    "school_df = pd.read_csv (school_path)\n",
    "student_df = pd.read_csv(student_path)"
   ]
  },
  {
   "cell_type": "code",
   "execution_count": 3,
   "id": "d8c7196a-4fb5-465b-9022-c10c4e6dd859",
   "metadata": {},
   "outputs": [
    {
     "data": {
      "text/html": [
       "<div>\n",
       "<style scoped>\n",
       "    .dataframe tbody tr th:only-of-type {\n",
       "        vertical-align: middle;\n",
       "    }\n",
       "\n",
       "    .dataframe tbody tr th {\n",
       "        vertical-align: top;\n",
       "    }\n",
       "\n",
       "    .dataframe thead th {\n",
       "        text-align: right;\n",
       "    }\n",
       "</style>\n",
       "<table border=\"1\" class=\"dataframe\">\n",
       "  <thead>\n",
       "    <tr style=\"text-align: right;\">\n",
       "      <th></th>\n",
       "      <th>student_name</th>\n",
       "      <th>gender</th>\n",
       "      <th>grade</th>\n",
       "      <th>school_name</th>\n",
       "      <th>reading_score</th>\n",
       "      <th>math_score</th>\n",
       "      <th>type</th>\n",
       "      <th>size</th>\n",
       "      <th>budget</th>\n",
       "    </tr>\n",
       "  </thead>\n",
       "  <tbody>\n",
       "    <tr>\n",
       "      <th>0</th>\n",
       "      <td>Paul Bradley</td>\n",
       "      <td>M</td>\n",
       "      <td>9th</td>\n",
       "      <td>Huang High School</td>\n",
       "      <td>66</td>\n",
       "      <td>79</td>\n",
       "      <td>District</td>\n",
       "      <td>2917</td>\n",
       "      <td>1910635</td>\n",
       "    </tr>\n",
       "    <tr>\n",
       "      <th>1</th>\n",
       "      <td>Victor Smith</td>\n",
       "      <td>M</td>\n",
       "      <td>12th</td>\n",
       "      <td>Huang High School</td>\n",
       "      <td>94</td>\n",
       "      <td>61</td>\n",
       "      <td>District</td>\n",
       "      <td>2917</td>\n",
       "      <td>1910635</td>\n",
       "    </tr>\n",
       "    <tr>\n",
       "      <th>2</th>\n",
       "      <td>Kevin Rodriguez</td>\n",
       "      <td>M</td>\n",
       "      <td>12th</td>\n",
       "      <td>Huang High School</td>\n",
       "      <td>90</td>\n",
       "      <td>60</td>\n",
       "      <td>District</td>\n",
       "      <td>2917</td>\n",
       "      <td>1910635</td>\n",
       "    </tr>\n",
       "    <tr>\n",
       "      <th>3</th>\n",
       "      <td>Dr. Richard Scott</td>\n",
       "      <td>M</td>\n",
       "      <td>12th</td>\n",
       "      <td>Huang High School</td>\n",
       "      <td>67</td>\n",
       "      <td>58</td>\n",
       "      <td>District</td>\n",
       "      <td>2917</td>\n",
       "      <td>1910635</td>\n",
       "    </tr>\n",
       "    <tr>\n",
       "      <th>4</th>\n",
       "      <td>Bonnie Ray</td>\n",
       "      <td>F</td>\n",
       "      <td>9th</td>\n",
       "      <td>Huang High School</td>\n",
       "      <td>97</td>\n",
       "      <td>84</td>\n",
       "      <td>District</td>\n",
       "      <td>2917</td>\n",
       "      <td>1910635</td>\n",
       "    </tr>\n",
       "  </tbody>\n",
       "</table>\n",
       "</div>"
      ],
      "text/plain": [
       "        student_name gender grade        school_name  reading_score  \\\n",
       "0       Paul Bradley      M   9th  Huang High School             66   \n",
       "1       Victor Smith      M  12th  Huang High School             94   \n",
       "2    Kevin Rodriguez      M  12th  Huang High School             90   \n",
       "3  Dr. Richard Scott      M  12th  Huang High School             67   \n",
       "4         Bonnie Ray      F   9th  Huang High School             97   \n",
       "\n",
       "   math_score      type  size   budget  \n",
       "0          79  District  2917  1910635  \n",
       "1          61  District  2917  1910635  \n",
       "2          60  District  2917  1910635  \n",
       "3          58  District  2917  1910635  \n",
       "4          84  District  2917  1910635  "
      ]
     },
     "execution_count": 3,
     "metadata": {},
     "output_type": "execute_result"
    }
   ],
   "source": [
    "# Combine the data into a single dataset, removing the  Student ID and School ID columns as they hold no value\n",
    "school_data_combined= pd.merge(student_df, school_df,  on=\"school_name\")\n",
    "school_data_combined = school_data_combined.drop(['School ID', 'Student ID'], axis=1)\n",
    "school_data_combined.head()"
   ]
  },
  {
   "cell_type": "code",
   "execution_count": 4,
   "id": "f55f5a0c-7bea-4f3f-9fca-bd826f6d7302",
   "metadata": {},
   "outputs": [
    {
     "data": {
      "text/plain": [
       "15"
      ]
     },
     "execution_count": 4,
     "metadata": {},
     "output_type": "execute_result"
    }
   ],
   "source": [
    "#District Summary\n",
    "#total number of schools\n",
    "schools= school_data_combined[\"school_name\"].value_counts()\n",
    "total_numb_schools=len(schools)\n",
    "total_numb_schools"
   ]
  },
  {
   "cell_type": "code",
   "execution_count": 5,
   "id": "57d96d07-1ed5-494b-93d5-09bdab640e70",
   "metadata": {},
   "outputs": [
    {
     "data": {
      "text/plain": [
       "39170"
      ]
     },
     "execution_count": 5,
     "metadata": {},
     "output_type": "execute_result"
    }
   ],
   "source": [
    "#total numb of students\n",
    "total_numb_students = school_data_combined[\"student_name\"].count()\n",
    "total_numb_students"
   ]
  },
  {
   "cell_type": "code",
   "execution_count": 6,
   "id": "7c074458-f4ec-4da0-a992-3f8a926c6c5d",
   "metadata": {},
   "outputs": [
    {
     "data": {
      "text/plain": [
       "24649428"
      ]
     },
     "execution_count": 6,
     "metadata": {},
     "output_type": "execute_result"
    }
   ],
   "source": [
    "#Total budget\n",
    "total_budget = school_df[\"budget\"].sum()\n",
    "total_budget"
   ]
  },
  {
   "cell_type": "code",
   "execution_count": 7,
   "id": "ba094bcc-eb53-4332-a383-e7c6d4abc759",
   "metadata": {},
   "outputs": [
    {
     "data": {
      "text/plain": [
       "78.98537145774827"
      ]
     },
     "execution_count": 7,
     "metadata": {},
     "output_type": "execute_result"
    }
   ],
   "source": [
    "#Average Math Score\n",
    "aver_math=(school_data_combined[\"math_score\"].mean())\n",
    "aver_math"
   ]
  },
  {
   "cell_type": "code",
   "execution_count": 8,
   "id": "cada4c15-ccc2-4461-87b6-50012ac847f5",
   "metadata": {},
   "outputs": [
    {
     "data": {
      "text/plain": [
       "81.87784018381414"
      ]
     },
     "execution_count": 8,
     "metadata": {},
     "output_type": "execute_result"
    }
   ],
   "source": [
    "# Average reading score\n",
    "averg_reading=(school_data_combined[\"reading_score\"].mean())\n",
    "averg_reading"
   ]
  },
  {
   "cell_type": "code",
   "execution_count": 9,
   "id": "f5c9955e-6ced-4eda-b668-cd78e9653daa",
   "metadata": {},
   "outputs": [
    {
     "data": {
      "text/plain": [
       "74.9808526933878"
      ]
     },
     "execution_count": 9,
     "metadata": {},
     "output_type": "execute_result"
    }
   ],
   "source": [
    "# Calculate the percentage of students with a passing math score (70 or greater)\n",
    "#passing score is >70.I need to organize the data: take all the scores that are >=70 / total score.\n",
    "pass_math = student_df.loc[student_df[\"math_score\"]>=70]\n",
    "pass_math_prcent=len(pass_math)/total_numb_students*100\n",
    "pass_math_prcent"
   ]
  },
  {
   "cell_type": "code",
   "execution_count": 10,
   "id": "50bc1de2-6844-49e2-9006-59391c5c2ba9",
   "metadata": {},
   "outputs": [
    {
     "data": {
      "text/plain": [
       "85.80546336482001"
      ]
     },
     "execution_count": 10,
     "metadata": {},
     "output_type": "execute_result"
    }
   ],
   "source": [
    "#% Passing Reading (The percentage of students that passed reading.)\n",
    "pass_read = student_df.loc[student_df[\"reading_score\"]>=70]\n",
    "pass_read_prcent=len(pass_read)/total_numb_students*100\n",
    "pass_read_prcent"
   ]
  },
  {
   "cell_type": "code",
   "execution_count": 11,
   "id": "d514333f-04ec-4a66-aebc-582c4163b61c",
   "metadata": {},
   "outputs": [
    {
     "data": {
      "text/plain": [
       "65.17232575950983"
      ]
     },
     "execution_count": 11,
     "metadata": {},
     "output_type": "execute_result"
    }
   ],
   "source": [
    "#% Overall Passing (The percentage of students that passed math and reading.)we are looking at all the scores that are above 70 to calculate the overal by student name count.\n",
    "overall_pass = student_df[(student_df['math_score'] >= 70) & (student_df['reading_score'] >= 70)]['student_name'].count()/total_numb_students*100\n",
    "overall_pass"
   ]
  },
  {
   "cell_type": "code",
   "execution_count": 12,
   "id": "fb3fb561-f2b3-4c8c-8009-137ab1159720",
   "metadata": {},
   "outputs": [
    {
     "data": {
      "text/html": [
       "<div>\n",
       "<style scoped>\n",
       "    .dataframe tbody tr th:only-of-type {\n",
       "        vertical-align: middle;\n",
       "    }\n",
       "\n",
       "    .dataframe tbody tr th {\n",
       "        vertical-align: top;\n",
       "    }\n",
       "\n",
       "    .dataframe thead th {\n",
       "        text-align: right;\n",
       "    }\n",
       "</style>\n",
       "<table border=\"1\" class=\"dataframe\">\n",
       "  <thead>\n",
       "    <tr style=\"text-align: right;\">\n",
       "      <th></th>\n",
       "      <th>Total Schools</th>\n",
       "      <th>Total Students</th>\n",
       "      <th>Total Budget</th>\n",
       "      <th>Average Math Score</th>\n",
       "      <th>Average Reading Score</th>\n",
       "      <th>% Passing Math</th>\n",
       "      <th>% Passing Reading</th>\n",
       "      <th>Overall Passing %</th>\n",
       "    </tr>\n",
       "  </thead>\n",
       "  <tbody>\n",
       "    <tr>\n",
       "      <th>0</th>\n",
       "      <td>15</td>\n",
       "      <td>39,170</td>\n",
       "      <td>$24,649,428.00</td>\n",
       "      <td>78.985371</td>\n",
       "      <td>81.87784</td>\n",
       "      <td>74.980853</td>\n",
       "      <td>85.805463</td>\n",
       "      <td>65.172326</td>\n",
       "    </tr>\n",
       "  </tbody>\n",
       "</table>\n",
       "</div>"
      ],
      "text/plain": [
       "   Total Schools Total Students    Total Budget  Average Math Score  \\\n",
       "0             15         39,170  $24,649,428.00           78.985371   \n",
       "\n",
       "   Average Reading Score  % Passing Math  % Passing Reading  Overall Passing %  \n",
       "0               81.87784       74.980853          85.805463          65.172326  "
      ]
     },
     "execution_count": 12,
     "metadata": {},
     "output_type": "execute_result"
    }
   ],
   "source": [
    "district_summary = pd.DataFrame({\n",
    "    \n",
    "    \"Total Schools\": [total_numb_schools],\n",
    "    \"Total Students\": [total_numb_students],\n",
    "    \"Total Budget\": [total_budget],\n",
    "     \"Average Math Score\": [aver_math],\n",
    "    \"Average Reading Score\":[averg_reading],\n",
    "    \"% Passing Math\": [pass_math_prcent],\n",
    "    \"% Passing Reading\": [pass_read_prcent],\n",
    "    \"Overall Passing %\": [overall_pass]\n",
    "  \n",
    "})\n",
    "\n",
    "district_summary[\"Total Budget\"]=district_summary[\"Total Budget\"].map('${:,.2f}'.format)\n",
    "district_summary[\"Total Students\"]=district_summary[\"Total Students\"].map('{:,.0f}'.format)\n",
    "district_summary"
   ]
  },
  {
   "cell_type": "code",
   "execution_count": 19,
   "id": "85a4e82d-977c-4b7c-8a92-fbf31ef0b5c2",
   "metadata": {},
   "outputs": [],
   "source": [
    "#School Summary"
   ]
  },
  {
   "cell_type": "code",
   "execution_count": 13,
   "id": "84787be9-d051-4005-9082-909602689a99",
   "metadata": {},
   "outputs": [
    {
     "data": {
      "text/plain": [
       "school_name\n",
       "Huang High School        District\n",
       "Figueroa High School     District\n",
       "Shelton High School       Charter\n",
       "Hernandez High School    District\n",
       "Griffin High School       Charter\n",
       "Wilson High School        Charter\n",
       "Cabrera High School       Charter\n",
       "Bailey High School       District\n",
       "Holden High School        Charter\n",
       "Pena High School          Charter\n",
       "Wright High School        Charter\n",
       "Rodriguez High School    District\n",
       "Johnson High School      District\n",
       "Ford High School         District\n",
       "Thomas High School        Charter\n",
       "Name: type, dtype: object"
      ]
     },
     "execution_count": 13,
     "metadata": {},
     "output_type": "execute_result"
    }
   ],
   "source": [
    "#school type\n",
    "school_type=school_df.set_index([\"school_name\"])[\"type\"]\n",
    "school_type"
   ]
  },
  {
   "cell_type": "code",
   "execution_count": 14,
   "id": "721fe803-b028-4b2b-aee0-e6b5b1b1362b",
   "metadata": {},
   "outputs": [
    {
     "data": {
      "text/plain": [
       "Bailey High School       4976\n",
       "Johnson High School      4761\n",
       "Hernandez High School    4635\n",
       "Rodriguez High School    3999\n",
       "Figueroa High School     2949\n",
       "Huang High School        2917\n",
       "Ford High School         2739\n",
       "Wilson High School       2283\n",
       "Cabrera High School      1858\n",
       "Wright High School       1800\n",
       "Shelton High School      1761\n",
       "Thomas High School       1635\n",
       "Griffin High School      1468\n",
       "Pena High School          962\n",
       "Holden High School        427\n",
       "Name: school_name, dtype: int64"
      ]
     },
     "execution_count": 14,
     "metadata": {},
     "output_type": "execute_result"
    }
   ],
   "source": [
    "#total students\n",
    "school_total_students=school_data_combined[\"school_name\"].value_counts()\n",
    "school_total_students"
   ]
  },
  {
   "cell_type": "code",
   "execution_count": 15,
   "id": "e873abb0-7192-4054-9de5-9d519c017460",
   "metadata": {},
   "outputs": [
    {
     "data": {
      "text/plain": [
       "school_name\n",
       "Huang High School        1910635\n",
       "Figueroa High School     1884411\n",
       "Shelton High School      1056600\n",
       "Hernandez High School    3022020\n",
       "Griffin High School       917500\n",
       "Wilson High School       1319574\n",
       "Cabrera High School      1081356\n",
       "Bailey High School       3124928\n",
       "Holden High School        248087\n",
       "Pena High School          585858\n",
       "Wright High School       1049400\n",
       "Rodriguez High School    2547363\n",
       "Johnson High School      3094650\n",
       "Ford High School         1763916\n",
       "Thomas High School       1043130\n",
       "Name: budget, dtype: int64"
      ]
     },
     "execution_count": 15,
     "metadata": {},
     "output_type": "execute_result"
    }
   ],
   "source": [
    "#Total school budget\n",
    "school_budget=school_df.set_index(\"school_name\")[\"budget\"]\n",
    "school_budget"
   ]
  },
  {
   "cell_type": "code",
   "execution_count": 16,
   "id": "915d0e00-3ef9-4837-a591-72ff20559a9c",
   "metadata": {},
   "outputs": [
    {
     "data": {
      "text/plain": [
       "Bailey High School       628.0\n",
       "Cabrera High School      582.0\n",
       "Figueroa High School     639.0\n",
       "Ford High School         644.0\n",
       "Griffin High School      625.0\n",
       "Hernandez High School    652.0\n",
       "Holden High School       581.0\n",
       "Huang High School        655.0\n",
       "Johnson High School      650.0\n",
       "Pena High School         609.0\n",
       "Rodriguez High School    637.0\n",
       "Shelton High School      600.0\n",
       "Thomas High School       638.0\n",
       "Wilson High School       578.0\n",
       "Wright High School       583.0\n",
       "dtype: float64"
      ]
     },
     "execution_count": 16,
     "metadata": {},
     "output_type": "execute_result"
    }
   ],
   "source": [
    "#per student budget\n",
    "psb=school_budget/school_total_students\n",
    "psb"
   ]
  },
  {
   "cell_type": "code",
   "execution_count": 17,
   "id": "4fc921e7-dee2-457a-b25e-a49643dd31d4",
   "metadata": {},
   "outputs": [
    {
     "data": {
      "text/plain": [
       "school_name\n",
       "Bailey High School       77.05\n",
       "Cabrera High School      83.06\n",
       "Figueroa High School     76.71\n",
       "Ford High School         77.10\n",
       "Griffin High School      83.35\n",
       "Hernandez High School    77.29\n",
       "Holden High School       83.80\n",
       "Huang High School        76.63\n",
       "Johnson High School      77.07\n",
       "Pena High School         83.84\n",
       "Rodriguez High School    76.84\n",
       "Shelton High School      83.36\n",
       "Thomas High School       83.42\n",
       "Wilson High School       83.27\n",
       "Wright High School       83.68\n",
       "Name: math_score, dtype: float64"
      ]
     },
     "execution_count": 17,
     "metadata": {},
     "output_type": "execute_result"
    }
   ],
   "source": [
    "#Average math Score\n",
    "#total math score per school\n",
    "avg_math_scores = round(school_data_combined.groupby([\"school_name\"]).mean()[\"math_score\"],2)\n",
    "avg_math_scores"
   ]
  },
  {
   "cell_type": "code",
   "execution_count": 18,
   "id": "473533fc-0c95-40c2-8b4c-23c988c0133a",
   "metadata": {},
   "outputs": [
    {
     "data": {
      "text/plain": [
       "school_name\n",
       "Bailey High School       81.03\n",
       "Cabrera High School      83.98\n",
       "Figueroa High School     81.16\n",
       "Ford High School         80.75\n",
       "Griffin High School      83.82\n",
       "Hernandez High School    80.93\n",
       "Holden High School       83.81\n",
       "Huang High School        81.18\n",
       "Johnson High School      80.97\n",
       "Pena High School         84.04\n",
       "Rodriguez High School    80.74\n",
       "Shelton High School      83.73\n",
       "Thomas High School       83.85\n",
       "Wilson High School       83.99\n",
       "Wright High School       83.96\n",
       "Name: reading_score, dtype: float64"
      ]
     },
     "execution_count": 18,
     "metadata": {},
     "output_type": "execute_result"
    }
   ],
   "source": [
    "#avergae reading scores per school\n",
    "#total reading scores per school\n",
    "avg_reading_scores = round(school_data_combined.groupby([\"school_name\"]).mean()[\"reading_score\"],2)\n",
    "avg_reading_scores"
   ]
  },
  {
   "cell_type": "code",
   "execution_count": 19,
   "id": "5aff91ac-fb12-43fd-9683-2722eeb0eabd",
   "metadata": {},
   "outputs": [
    {
     "data": {
      "text/html": [
       "<div>\n",
       "<style scoped>\n",
       "    .dataframe tbody tr th:only-of-type {\n",
       "        vertical-align: middle;\n",
       "    }\n",
       "\n",
       "    .dataframe tbody tr th {\n",
       "        vertical-align: top;\n",
       "    }\n",
       "\n",
       "    .dataframe thead th {\n",
       "        text-align: right;\n",
       "    }\n",
       "</style>\n",
       "<table border=\"1\" class=\"dataframe\">\n",
       "  <thead>\n",
       "    <tr style=\"text-align: right;\">\n",
       "      <th></th>\n",
       "      <th>student_name</th>\n",
       "      <th>gender</th>\n",
       "      <th>grade</th>\n",
       "      <th>school_name</th>\n",
       "      <th>reading_score</th>\n",
       "      <th>math_score</th>\n",
       "      <th>type</th>\n",
       "      <th>size</th>\n",
       "      <th>budget</th>\n",
       "    </tr>\n",
       "  </thead>\n",
       "  <tbody>\n",
       "    <tr>\n",
       "      <th>0</th>\n",
       "      <td>Paul Bradley</td>\n",
       "      <td>M</td>\n",
       "      <td>9th</td>\n",
       "      <td>Huang High School</td>\n",
       "      <td>66</td>\n",
       "      <td>79</td>\n",
       "      <td>District</td>\n",
       "      <td>2917</td>\n",
       "      <td>1910635</td>\n",
       "    </tr>\n",
       "    <tr>\n",
       "      <th>4</th>\n",
       "      <td>Bonnie Ray</td>\n",
       "      <td>F</td>\n",
       "      <td>9th</td>\n",
       "      <td>Huang High School</td>\n",
       "      <td>97</td>\n",
       "      <td>84</td>\n",
       "      <td>District</td>\n",
       "      <td>2917</td>\n",
       "      <td>1910635</td>\n",
       "    </tr>\n",
       "    <tr>\n",
       "      <th>5</th>\n",
       "      <td>Bryan Miranda</td>\n",
       "      <td>M</td>\n",
       "      <td>9th</td>\n",
       "      <td>Huang High School</td>\n",
       "      <td>94</td>\n",
       "      <td>94</td>\n",
       "      <td>District</td>\n",
       "      <td>2917</td>\n",
       "      <td>1910635</td>\n",
       "    </tr>\n",
       "    <tr>\n",
       "      <th>6</th>\n",
       "      <td>Sheena Carter</td>\n",
       "      <td>F</td>\n",
       "      <td>11th</td>\n",
       "      <td>Huang High School</td>\n",
       "      <td>82</td>\n",
       "      <td>80</td>\n",
       "      <td>District</td>\n",
       "      <td>2917</td>\n",
       "      <td>1910635</td>\n",
       "    </tr>\n",
       "    <tr>\n",
       "      <th>8</th>\n",
       "      <td>Michael Roth</td>\n",
       "      <td>M</td>\n",
       "      <td>10th</td>\n",
       "      <td>Huang High School</td>\n",
       "      <td>95</td>\n",
       "      <td>87</td>\n",
       "      <td>District</td>\n",
       "      <td>2917</td>\n",
       "      <td>1910635</td>\n",
       "    </tr>\n",
       "  </tbody>\n",
       "</table>\n",
       "</div>"
      ],
      "text/plain": [
       "    student_name gender grade        school_name  reading_score  math_score  \\\n",
       "0   Paul Bradley      M   9th  Huang High School             66          79   \n",
       "4     Bonnie Ray      F   9th  Huang High School             97          84   \n",
       "5  Bryan Miranda      M   9th  Huang High School             94          94   \n",
       "6  Sheena Carter      F  11th  Huang High School             82          80   \n",
       "8   Michael Roth      M  10th  Huang High School             95          87   \n",
       "\n",
       "       type  size   budget  \n",
       "0  District  2917  1910635  \n",
       "4  District  2917  1910635  \n",
       "5  District  2917  1910635  \n",
       "6  District  2917  1910635  \n",
       "8  District  2917  1910635  "
      ]
     },
     "execution_count": 19,
     "metadata": {},
     "output_type": "execute_result"
    }
   ],
   "source": [
    "# Calculate the percentage of students with a passing math score (70 or greater)\n",
    "#passing score is >70.I need to organize the data: take all the scores that are >=70 / total score.\n",
    "students_pass_math = school_data_combined[(school_data_combined[\"math_score\"]>=70)]\n",
    "students_pass_math.head()"
   ]
  },
  {
   "cell_type": "code",
   "execution_count": 20,
   "id": "cb9b13e2-fea8-4f09-abad-8ab6de061089",
   "metadata": {},
   "outputs": [
    {
     "data": {
      "text/plain": [
       "school_name\n",
       "Bailey High School       3318\n",
       "Cabrera High School      1749\n",
       "Figueroa High School     1946\n",
       "Ford High School         1871\n",
       "Griffin High School      1371\n",
       "Hernandez High School    3094\n",
       "Holden High School        395\n",
       "Huang High School        1916\n",
       "Johnson High School      3145\n",
       "Pena High School          910\n",
       "Rodriguez High School    2654\n",
       "Shelton High School      1653\n",
       "Thomas High School       1525\n",
       "Wilson High School       2143\n",
       "Wright High School       1680\n",
       "Name: student_name, dtype: int64"
      ]
     },
     "execution_count": 20,
     "metadata": {},
     "output_type": "execute_result"
    }
   ],
   "source": [
    "students_pass_math_per_school=students_pass_math.groupby([\"school_name\"]).count()[\"student_name\"]\n",
    "students_pass_math_per_school"
   ]
  },
  {
   "cell_type": "code",
   "execution_count": 21,
   "id": "4be86f1d-d0f3-49cd-89ed-1d63423beca6",
   "metadata": {},
   "outputs": [
    {
     "data": {
      "text/plain": [
       "Bailey High School       66.68\n",
       "Cabrera High School      94.13\n",
       "Figueroa High School     65.99\n",
       "Ford High School         68.31\n",
       "Griffin High School      93.39\n",
       "Hernandez High School    66.75\n",
       "Holden High School       92.51\n",
       "Huang High School        65.68\n",
       "Johnson High School      66.06\n",
       "Pena High School         94.59\n",
       "Rodriguez High School    66.37\n",
       "Shelton High School      93.87\n",
       "Thomas High School       93.27\n",
       "Wilson High School       93.87\n",
       "Wright High School       93.33\n",
       "dtype: float64"
      ]
     },
     "execution_count": 21,
     "metadata": {},
     "output_type": "execute_result"
    }
   ],
   "source": [
    "#percentage of students passing math per school\n",
    "pass_math_prcent=round((students_pass_math_per_school/school_total_students)*100,2)\n",
    "pass_math_prcent"
   ]
  },
  {
   "cell_type": "code",
   "execution_count": 22,
   "id": "be15565b-e6ea-4729-8d04-1ba444ce4ad2",
   "metadata": {},
   "outputs": [
    {
     "data": {
      "text/html": [
       "<div>\n",
       "<style scoped>\n",
       "    .dataframe tbody tr th:only-of-type {\n",
       "        vertical-align: middle;\n",
       "    }\n",
       "\n",
       "    .dataframe tbody tr th {\n",
       "        vertical-align: top;\n",
       "    }\n",
       "\n",
       "    .dataframe thead th {\n",
       "        text-align: right;\n",
       "    }\n",
       "</style>\n",
       "<table border=\"1\" class=\"dataframe\">\n",
       "  <thead>\n",
       "    <tr style=\"text-align: right;\">\n",
       "      <th></th>\n",
       "      <th>student_name</th>\n",
       "      <th>gender</th>\n",
       "      <th>grade</th>\n",
       "      <th>school_name</th>\n",
       "      <th>reading_score</th>\n",
       "      <th>math_score</th>\n",
       "      <th>type</th>\n",
       "      <th>size</th>\n",
       "      <th>budget</th>\n",
       "    </tr>\n",
       "  </thead>\n",
       "  <tbody>\n",
       "    <tr>\n",
       "      <th>1</th>\n",
       "      <td>Victor Smith</td>\n",
       "      <td>M</td>\n",
       "      <td>12th</td>\n",
       "      <td>Huang High School</td>\n",
       "      <td>94</td>\n",
       "      <td>61</td>\n",
       "      <td>District</td>\n",
       "      <td>2917</td>\n",
       "      <td>1910635</td>\n",
       "    </tr>\n",
       "    <tr>\n",
       "      <th>2</th>\n",
       "      <td>Kevin Rodriguez</td>\n",
       "      <td>M</td>\n",
       "      <td>12th</td>\n",
       "      <td>Huang High School</td>\n",
       "      <td>90</td>\n",
       "      <td>60</td>\n",
       "      <td>District</td>\n",
       "      <td>2917</td>\n",
       "      <td>1910635</td>\n",
       "    </tr>\n",
       "    <tr>\n",
       "      <th>4</th>\n",
       "      <td>Bonnie Ray</td>\n",
       "      <td>F</td>\n",
       "      <td>9th</td>\n",
       "      <td>Huang High School</td>\n",
       "      <td>97</td>\n",
       "      <td>84</td>\n",
       "      <td>District</td>\n",
       "      <td>2917</td>\n",
       "      <td>1910635</td>\n",
       "    </tr>\n",
       "    <tr>\n",
       "      <th>5</th>\n",
       "      <td>Bryan Miranda</td>\n",
       "      <td>M</td>\n",
       "      <td>9th</td>\n",
       "      <td>Huang High School</td>\n",
       "      <td>94</td>\n",
       "      <td>94</td>\n",
       "      <td>District</td>\n",
       "      <td>2917</td>\n",
       "      <td>1910635</td>\n",
       "    </tr>\n",
       "    <tr>\n",
       "      <th>6</th>\n",
       "      <td>Sheena Carter</td>\n",
       "      <td>F</td>\n",
       "      <td>11th</td>\n",
       "      <td>Huang High School</td>\n",
       "      <td>82</td>\n",
       "      <td>80</td>\n",
       "      <td>District</td>\n",
       "      <td>2917</td>\n",
       "      <td>1910635</td>\n",
       "    </tr>\n",
       "  </tbody>\n",
       "</table>\n",
       "</div>"
      ],
      "text/plain": [
       "      student_name gender grade        school_name  reading_score  math_score  \\\n",
       "1     Victor Smith      M  12th  Huang High School             94          61   \n",
       "2  Kevin Rodriguez      M  12th  Huang High School             90          60   \n",
       "4       Bonnie Ray      F   9th  Huang High School             97          84   \n",
       "5    Bryan Miranda      M   9th  Huang High School             94          94   \n",
       "6    Sheena Carter      F  11th  Huang High School             82          80   \n",
       "\n",
       "       type  size   budget  \n",
       "1  District  2917  1910635  \n",
       "2  District  2917  1910635  \n",
       "4  District  2917  1910635  \n",
       "5  District  2917  1910635  \n",
       "6  District  2917  1910635  "
      ]
     },
     "execution_count": 22,
     "metadata": {},
     "output_type": "execute_result"
    }
   ],
   "source": [
    "# Calculate the percentage of students \n",
    "#with a passing reading score (70 or greater)\n",
    "students_pass_read = school_data_combined[(school_data_combined[\"reading_score\"]>=70)]\n",
    "students_pass_read.head()"
   ]
  },
  {
   "cell_type": "code",
   "execution_count": 23,
   "id": "b70e4571-0126-489f-8e19-4a007ddcb81a",
   "metadata": {},
   "outputs": [
    {
     "data": {
      "text/plain": [
       "school_name\n",
       "Bailey High School       4077\n",
       "Cabrera High School      1803\n",
       "Figueroa High School     2381\n",
       "Ford High School         2172\n",
       "Griffin High School      1426\n",
       "Hernandez High School    3748\n",
       "Holden High School        411\n",
       "Huang High School        2372\n",
       "Johnson High School      3867\n",
       "Pena High School          923\n",
       "Rodriguez High School    3208\n",
       "Shelton High School      1688\n",
       "Thomas High School       1591\n",
       "Wilson High School       2204\n",
       "Wright High School       1739\n",
       "Name: student_name, dtype: int64"
      ]
     },
     "execution_count": 23,
     "metadata": {},
     "output_type": "execute_result"
    }
   ],
   "source": [
    "# students passing by school\n",
    "students_pass_read_per_school=students_pass_read.groupby([\"school_name\"]).count()[\"student_name\"]\n",
    "students_pass_read_per_school"
   ]
  },
  {
   "cell_type": "code",
   "execution_count": 24,
   "id": "dd17e3b4-9605-4fea-9825-3342575643e9",
   "metadata": {},
   "outputs": [
    {
     "data": {
      "text/plain": [
       "Bailey High School       81.93\n",
       "Cabrera High School      97.04\n",
       "Figueroa High School     80.74\n",
       "Ford High School         79.30\n",
       "Griffin High School      97.14\n",
       "Hernandez High School    80.86\n",
       "Holden High School       96.25\n",
       "Huang High School        81.32\n",
       "Johnson High School      81.22\n",
       "Pena High School         95.95\n",
       "Rodriguez High School    80.22\n",
       "Shelton High School      95.85\n",
       "Thomas High School       97.31\n",
       "Wilson High School       96.54\n",
       "Wright High School       96.61\n",
       "dtype: float64"
      ]
     },
     "execution_count": 24,
     "metadata": {},
     "output_type": "execute_result"
    }
   ],
   "source": [
    "#percentage of students passing reading per school\n",
    "pass_read_prcent=round((students_pass_read_per_school/school_total_students)*100,2)\n",
    "pass_read_prcent"
   ]
  },
  {
   "cell_type": "code",
   "execution_count": 25,
   "id": "0534b4ba-62c1-48b1-8e98-ad290f00531b",
   "metadata": {},
   "outputs": [
    {
     "data": {
      "text/plain": [
       "Bailey High School       54.64\n",
       "Cabrera High School      91.33\n",
       "Figueroa High School     53.20\n",
       "Ford High School         54.29\n",
       "Griffin High School      90.60\n",
       "Hernandez High School    53.53\n",
       "Holden High School       89.23\n",
       "Huang High School        53.51\n",
       "Johnson High School      53.54\n",
       "Pena High School         90.54\n",
       "Rodriguez High School    52.99\n",
       "Shelton High School      89.89\n",
       "Thomas High School       90.95\n",
       "Wilson High School       90.58\n",
       "Wright High School       90.33\n",
       "dtype: float64"
      ]
     },
     "execution_count": 25,
     "metadata": {},
     "output_type": "execute_result"
    }
   ],
   "source": [
    "#overall passing rate per school\n",
    "overall_pass_school=school_data_combined[(school_data_combined['math_score'] >= 70) & (school_data_combined['reading_score'] >= 70)]\n",
    "overall_pass_school=overall_pass_school.groupby([\"school_name\"]).count()[\"student_name\"]\n",
    "pass_overall_prcent=round((overall_pass_school/school_total_students)*100,2)\n",
    "pass_overall_prcent"
   ]
  },
  {
   "cell_type": "code",
   "execution_count": 35,
   "id": "828c7326-2012-423d-a3dd-f13afdbda220",
   "metadata": {},
   "outputs": [
    {
     "data": {
      "text/html": [
       "<div>\n",
       "<style scoped>\n",
       "    .dataframe tbody tr th:only-of-type {\n",
       "        vertical-align: middle;\n",
       "    }\n",
       "\n",
       "    .dataframe tbody tr th {\n",
       "        vertical-align: top;\n",
       "    }\n",
       "\n",
       "    .dataframe thead th {\n",
       "        text-align: right;\n",
       "    }\n",
       "</style>\n",
       "<table border=\"1\" class=\"dataframe\">\n",
       "  <thead>\n",
       "    <tr style=\"text-align: right;\">\n",
       "      <th></th>\n",
       "      <th>School Type</th>\n",
       "      <th>Total Students</th>\n",
       "      <th>Total School Budget</th>\n",
       "      <th>Per Student Budget</th>\n",
       "      <th>Average Math Score</th>\n",
       "      <th>Average Reading Score</th>\n",
       "      <th>% Passing Math</th>\n",
       "      <th>% Passing Reading</th>\n",
       "      <th>Overall Passing %</th>\n",
       "    </tr>\n",
       "  </thead>\n",
       "  <tbody>\n",
       "    <tr>\n",
       "      <th>Huang High School</th>\n",
       "      <td>District</td>\n",
       "      <td>2917</td>\n",
       "      <td>$1,910,635.00</td>\n",
       "      <td>$655.00</td>\n",
       "      <td>76.63</td>\n",
       "      <td>81.18</td>\n",
       "      <td>65.68</td>\n",
       "      <td>81.32</td>\n",
       "      <td>53.51</td>\n",
       "    </tr>\n",
       "    <tr>\n",
       "      <th>Figueroa High School</th>\n",
       "      <td>District</td>\n",
       "      <td>2949</td>\n",
       "      <td>$1,884,411.00</td>\n",
       "      <td>$639.00</td>\n",
       "      <td>76.71</td>\n",
       "      <td>81.16</td>\n",
       "      <td>65.99</td>\n",
       "      <td>80.74</td>\n",
       "      <td>53.20</td>\n",
       "    </tr>\n",
       "    <tr>\n",
       "      <th>Shelton High School</th>\n",
       "      <td>Charter</td>\n",
       "      <td>1761</td>\n",
       "      <td>$1,056,600.00</td>\n",
       "      <td>$600.00</td>\n",
       "      <td>83.36</td>\n",
       "      <td>83.73</td>\n",
       "      <td>93.87</td>\n",
       "      <td>95.85</td>\n",
       "      <td>89.89</td>\n",
       "    </tr>\n",
       "    <tr>\n",
       "      <th>Hernandez High School</th>\n",
       "      <td>District</td>\n",
       "      <td>4635</td>\n",
       "      <td>$3,022,020.00</td>\n",
       "      <td>$652.00</td>\n",
       "      <td>77.29</td>\n",
       "      <td>80.93</td>\n",
       "      <td>66.75</td>\n",
       "      <td>80.86</td>\n",
       "      <td>53.53</td>\n",
       "    </tr>\n",
       "    <tr>\n",
       "      <th>Griffin High School</th>\n",
       "      <td>Charter</td>\n",
       "      <td>1468</td>\n",
       "      <td>$917,500.00</td>\n",
       "      <td>$625.00</td>\n",
       "      <td>83.35</td>\n",
       "      <td>83.82</td>\n",
       "      <td>93.39</td>\n",
       "      <td>97.14</td>\n",
       "      <td>90.60</td>\n",
       "    </tr>\n",
       "  </tbody>\n",
       "</table>\n",
       "</div>"
      ],
      "text/plain": [
       "                      School Type  Total Students Total School Budget  \\\n",
       "Huang High School        District            2917       $1,910,635.00   \n",
       "Figueroa High School     District            2949       $1,884,411.00   \n",
       "Shelton High School       Charter            1761       $1,056,600.00   \n",
       "Hernandez High School    District            4635       $3,022,020.00   \n",
       "Griffin High School       Charter            1468         $917,500.00   \n",
       "\n",
       "                      Per Student Budget  Average Math Score  \\\n",
       "Huang High School                $655.00               76.63   \n",
       "Figueroa High School             $639.00               76.71   \n",
       "Shelton High School              $600.00               83.36   \n",
       "Hernandez High School            $652.00               77.29   \n",
       "Griffin High School              $625.00               83.35   \n",
       "\n",
       "                       Average Reading Score  % Passing Math  \\\n",
       "Huang High School                      81.18           65.68   \n",
       "Figueroa High School                   81.16           65.99   \n",
       "Shelton High School                    83.73           93.87   \n",
       "Hernandez High School                  80.93           66.75   \n",
       "Griffin High School                    83.82           93.39   \n",
       "\n",
       "                       % Passing Reading  Overall Passing %  \n",
       "Huang High School                  81.32              53.51  \n",
       "Figueroa High School               80.74              53.20  \n",
       "Shelton High School                95.85              89.89  \n",
       "Hernandez High School              80.86              53.53  \n",
       "Griffin High School                97.14              90.60  "
      ]
     },
     "execution_count": 35,
     "metadata": {},
     "output_type": "execute_result"
    }
   ],
   "source": [
    "school_summary = pd.concat([\n",
    "    school_type, school_total_students, school_budget,\n",
    "    psb, avg_math_scores, avg_reading_scores,\n",
    "    pass_math_prcent, pass_read_prcent, pass_overall_prcent], axis=1)\n",
    "\n",
    "school_summary = school_summary.rename(columns={\n",
    "    \n",
    "        \"school_name\":\"Total Students\",\n",
    "        \"type\":\"School Type\",        \n",
    "        \"budget\":\"Total School Budget\",\n",
    "        0:\"Per Student Budget\",\n",
    "        \"math_score\":\"Average Math Score\",\n",
    "        \"reading_score\":\"Average Reading Score\" ,\n",
    "        1: \"% Passing Math\",\n",
    "        2: \"% Passing Reading\",\n",
    "        3:\"Overall Passing %\"\n",
    "    })\n",
    "\n",
    "school_summary[\"Total School Budget\"]=school_summary[\"Total School Budget\"].map('${:,.2f}'.format)\n",
    "school_summary[\"Per Student Budget\"]=school_summary[\"Per Student Budget\"].map('${:,.2f}'.format)\n",
    "school_summary.head()"
   ]
  },
  {
   "cell_type": "code",
   "execution_count": 35,
   "id": "9724bf8e-b60c-4384-a58f-8bc210441d46",
   "metadata": {},
   "outputs": [
    {
     "data": {
      "text/html": [
       "<div>\n",
       "<style scoped>\n",
       "    .dataframe tbody tr th:only-of-type {\n",
       "        vertical-align: middle;\n",
       "    }\n",
       "\n",
       "    .dataframe tbody tr th {\n",
       "        vertical-align: top;\n",
       "    }\n",
       "\n",
       "    .dataframe thead th {\n",
       "        text-align: right;\n",
       "    }\n",
       "</style>\n",
       "<table border=\"1\" class=\"dataframe\">\n",
       "  <thead>\n",
       "    <tr style=\"text-align: right;\">\n",
       "      <th></th>\n",
       "      <th>School Type</th>\n",
       "      <th>school_name</th>\n",
       "      <th>Total School Budget</th>\n",
       "      <th>Per Student Budget</th>\n",
       "      <th>Average Math Score</th>\n",
       "      <th>Average Reading Score</th>\n",
       "      <th>% Passing Math</th>\n",
       "      <th>% Passing Reading</th>\n",
       "      <th>Overall Passing %</th>\n",
       "    </tr>\n",
       "  </thead>\n",
       "  <tbody>\n",
       "    <tr>\n",
       "      <th>Cabrera High School</th>\n",
       "      <td>Charter</td>\n",
       "      <td>1858</td>\n",
       "      <td>1081356</td>\n",
       "      <td>582.0</td>\n",
       "      <td>83.06</td>\n",
       "      <td>83.98</td>\n",
       "      <td>94.13</td>\n",
       "      <td>97.04</td>\n",
       "      <td>91.33</td>\n",
       "    </tr>\n",
       "    <tr>\n",
       "      <th>Thomas High School</th>\n",
       "      <td>Charter</td>\n",
       "      <td>1635</td>\n",
       "      <td>1043130</td>\n",
       "      <td>638.0</td>\n",
       "      <td>83.42</td>\n",
       "      <td>83.85</td>\n",
       "      <td>93.27</td>\n",
       "      <td>97.31</td>\n",
       "      <td>90.95</td>\n",
       "    </tr>\n",
       "    <tr>\n",
       "      <th>Griffin High School</th>\n",
       "      <td>Charter</td>\n",
       "      <td>1468</td>\n",
       "      <td>917500</td>\n",
       "      <td>625.0</td>\n",
       "      <td>83.35</td>\n",
       "      <td>83.82</td>\n",
       "      <td>93.39</td>\n",
       "      <td>97.14</td>\n",
       "      <td>90.60</td>\n",
       "    </tr>\n",
       "    <tr>\n",
       "      <th>Wilson High School</th>\n",
       "      <td>Charter</td>\n",
       "      <td>2283</td>\n",
       "      <td>1319574</td>\n",
       "      <td>578.0</td>\n",
       "      <td>83.27</td>\n",
       "      <td>83.99</td>\n",
       "      <td>93.87</td>\n",
       "      <td>96.54</td>\n",
       "      <td>90.58</td>\n",
       "    </tr>\n",
       "    <tr>\n",
       "      <th>Pena High School</th>\n",
       "      <td>Charter</td>\n",
       "      <td>962</td>\n",
       "      <td>585858</td>\n",
       "      <td>609.0</td>\n",
       "      <td>83.84</td>\n",
       "      <td>84.04</td>\n",
       "      <td>94.59</td>\n",
       "      <td>95.95</td>\n",
       "      <td>90.54</td>\n",
       "    </tr>\n",
       "  </tbody>\n",
       "</table>\n",
       "</div>"
      ],
      "text/plain": [
       "                    School Type  school_name  Total School Budget  \\\n",
       "Cabrera High School     Charter         1858              1081356   \n",
       "Thomas High School      Charter         1635              1043130   \n",
       "Griffin High School     Charter         1468               917500   \n",
       "Wilson High School      Charter         2283              1319574   \n",
       "Pena High School        Charter          962               585858   \n",
       "\n",
       "                     Per Student Budget  Average Math Score  \\\n",
       "Cabrera High School               582.0               83.06   \n",
       "Thomas High School                638.0               83.42   \n",
       "Griffin High School               625.0               83.35   \n",
       "Wilson High School                578.0               83.27   \n",
       "Pena High School                  609.0               83.84   \n",
       "\n",
       "                     Average Reading Score  % Passing Math  % Passing Reading  \\\n",
       "Cabrera High School                  83.98           94.13              97.04   \n",
       "Thomas High School                   83.85           93.27              97.31   \n",
       "Griffin High School                  83.82           93.39              97.14   \n",
       "Wilson High School                   83.99           93.87              96.54   \n",
       "Pena High School                     84.04           94.59              95.95   \n",
       "\n",
       "                     Overall Passing %  \n",
       "Cabrera High School              91.33  \n",
       "Thomas High School               90.95  \n",
       "Griffin High School              90.60  \n",
       "Wilson High School               90.58  \n",
       "Pena High School                 90.54  "
      ]
     },
     "execution_count": 35,
     "metadata": {},
     "output_type": "execute_result"
    }
   ],
   "source": [
    "#Top Performing Schools (By % Overall Passing)\n",
    "top_performing_schools=school_summary.sort_values(by=['Overall Passing %'], ascending=False).head(5)\n",
    "top_performing_schools"
   ]
  },
  {
   "cell_type": "code",
   "execution_count": 37,
   "id": "a93d0245-8655-4b93-a142-0233bebde06d",
   "metadata": {},
   "outputs": [
    {
     "data": {
      "text/html": [
       "<div>\n",
       "<style scoped>\n",
       "    .dataframe tbody tr th:only-of-type {\n",
       "        vertical-align: middle;\n",
       "    }\n",
       "\n",
       "    .dataframe tbody tr th {\n",
       "        vertical-align: top;\n",
       "    }\n",
       "\n",
       "    .dataframe thead th {\n",
       "        text-align: right;\n",
       "    }\n",
       "</style>\n",
       "<table border=\"1\" class=\"dataframe\">\n",
       "  <thead>\n",
       "    <tr style=\"text-align: right;\">\n",
       "      <th></th>\n",
       "      <th>School Type</th>\n",
       "      <th>school_name</th>\n",
       "      <th>Total School Budget</th>\n",
       "      <th>Per Student Budget</th>\n",
       "      <th>Average Math Score</th>\n",
       "      <th>Average Reading Score</th>\n",
       "      <th>% Passing Math</th>\n",
       "      <th>% Passing Reading</th>\n",
       "      <th>Overall Passing %</th>\n",
       "    </tr>\n",
       "  </thead>\n",
       "  <tbody>\n",
       "    <tr>\n",
       "      <th>Rodriguez High School</th>\n",
       "      <td>District</td>\n",
       "      <td>3999</td>\n",
       "      <td>2547363</td>\n",
       "      <td>637.0</td>\n",
       "      <td>76.84</td>\n",
       "      <td>80.74</td>\n",
       "      <td>66.37</td>\n",
       "      <td>80.22</td>\n",
       "      <td>52.99</td>\n",
       "    </tr>\n",
       "    <tr>\n",
       "      <th>Figueroa High School</th>\n",
       "      <td>District</td>\n",
       "      <td>2949</td>\n",
       "      <td>1884411</td>\n",
       "      <td>639.0</td>\n",
       "      <td>76.71</td>\n",
       "      <td>81.16</td>\n",
       "      <td>65.99</td>\n",
       "      <td>80.74</td>\n",
       "      <td>53.20</td>\n",
       "    </tr>\n",
       "    <tr>\n",
       "      <th>Huang High School</th>\n",
       "      <td>District</td>\n",
       "      <td>2917</td>\n",
       "      <td>1910635</td>\n",
       "      <td>655.0</td>\n",
       "      <td>76.63</td>\n",
       "      <td>81.18</td>\n",
       "      <td>65.68</td>\n",
       "      <td>81.32</td>\n",
       "      <td>53.51</td>\n",
       "    </tr>\n",
       "    <tr>\n",
       "      <th>Hernandez High School</th>\n",
       "      <td>District</td>\n",
       "      <td>4635</td>\n",
       "      <td>3022020</td>\n",
       "      <td>652.0</td>\n",
       "      <td>77.29</td>\n",
       "      <td>80.93</td>\n",
       "      <td>66.75</td>\n",
       "      <td>80.86</td>\n",
       "      <td>53.53</td>\n",
       "    </tr>\n",
       "    <tr>\n",
       "      <th>Johnson High School</th>\n",
       "      <td>District</td>\n",
       "      <td>4761</td>\n",
       "      <td>3094650</td>\n",
       "      <td>650.0</td>\n",
       "      <td>77.07</td>\n",
       "      <td>80.97</td>\n",
       "      <td>66.06</td>\n",
       "      <td>81.22</td>\n",
       "      <td>53.54</td>\n",
       "    </tr>\n",
       "  </tbody>\n",
       "</table>\n",
       "</div>"
      ],
      "text/plain": [
       "                      School Type  school_name  Total School Budget  \\\n",
       "Rodriguez High School    District         3999              2547363   \n",
       "Figueroa High School     District         2949              1884411   \n",
       "Huang High School        District         2917              1910635   \n",
       "Hernandez High School    District         4635              3022020   \n",
       "Johnson High School      District         4761              3094650   \n",
       "\n",
       "                       Per Student Budget  Average Math Score  \\\n",
       "Rodriguez High School               637.0               76.84   \n",
       "Figueroa High School                639.0               76.71   \n",
       "Huang High School                   655.0               76.63   \n",
       "Hernandez High School               652.0               77.29   \n",
       "Johnson High School                 650.0               77.07   \n",
       "\n",
       "                       Average Reading Score  % Passing Math  \\\n",
       "Rodriguez High School                  80.74           66.37   \n",
       "Figueroa High School                   81.16           65.99   \n",
       "Huang High School                      81.18           65.68   \n",
       "Hernandez High School                  80.93           66.75   \n",
       "Johnson High School                    80.97           66.06   \n",
       "\n",
       "                       % Passing Reading  Overall Passing %  \n",
       "Rodriguez High School              80.22              52.99  \n",
       "Figueroa High School               80.74              53.20  \n",
       "Huang High School                  81.32              53.51  \n",
       "Hernandez High School              80.86              53.53  \n",
       "Johnson High School                81.22              53.54  "
      ]
     },
     "execution_count": 37,
     "metadata": {},
     "output_type": "execute_result"
    }
   ],
   "source": [
    "#Sort and display the five worst-performing schools by % overall passing.\n",
    "bottom_performing_schools=school_summary.sort_values(by=['Overall Passing %'], ascending=True).head(5)\n",
    "bottom_performing_schools"
   ]
  },
  {
   "cell_type": "code",
   "execution_count": 38,
   "id": "80a5ae05-fdf8-43d8-ad2b-253219f6ce55",
   "metadata": {},
   "outputs": [
    {
     "data": {
      "text/html": [
       "<div>\n",
       "<style scoped>\n",
       "    .dataframe tbody tr th:only-of-type {\n",
       "        vertical-align: middle;\n",
       "    }\n",
       "\n",
       "    .dataframe tbody tr th {\n",
       "        vertical-align: top;\n",
       "    }\n",
       "\n",
       "    .dataframe thead tr th {\n",
       "        text-align: left;\n",
       "    }\n",
       "\n",
       "    .dataframe thead tr:last-of-type th {\n",
       "        text-align: right;\n",
       "    }\n",
       "</style>\n",
       "<table border=\"1\" class=\"dataframe\">\n",
       "  <thead>\n",
       "    <tr>\n",
       "      <th></th>\n",
       "      <th colspan=\"4\" halign=\"left\">math_score</th>\n",
       "    </tr>\n",
       "    <tr>\n",
       "      <th>grade</th>\n",
       "      <th>10th</th>\n",
       "      <th>11th</th>\n",
       "      <th>12th</th>\n",
       "      <th>9th</th>\n",
       "    </tr>\n",
       "    <tr>\n",
       "      <th>school_name</th>\n",
       "      <th></th>\n",
       "      <th></th>\n",
       "      <th></th>\n",
       "      <th></th>\n",
       "    </tr>\n",
       "  </thead>\n",
       "  <tbody>\n",
       "    <tr>\n",
       "      <th>Bailey High School</th>\n",
       "      <td>76.996772</td>\n",
       "      <td>77.515588</td>\n",
       "      <td>76.492218</td>\n",
       "      <td>77.083676</td>\n",
       "    </tr>\n",
       "    <tr>\n",
       "      <th>Cabrera High School</th>\n",
       "      <td>83.154506</td>\n",
       "      <td>82.765560</td>\n",
       "      <td>83.277487</td>\n",
       "      <td>83.094697</td>\n",
       "    </tr>\n",
       "    <tr>\n",
       "      <th>Figueroa High School</th>\n",
       "      <td>76.539974</td>\n",
       "      <td>76.884344</td>\n",
       "      <td>77.151369</td>\n",
       "      <td>76.403037</td>\n",
       "    </tr>\n",
       "    <tr>\n",
       "      <th>Ford High School</th>\n",
       "      <td>77.672316</td>\n",
       "      <td>76.918058</td>\n",
       "      <td>76.179963</td>\n",
       "      <td>77.361345</td>\n",
       "    </tr>\n",
       "    <tr>\n",
       "      <th>Griffin High School</th>\n",
       "      <td>84.229064</td>\n",
       "      <td>83.842105</td>\n",
       "      <td>83.356164</td>\n",
       "      <td>82.044010</td>\n",
       "    </tr>\n",
       "  </tbody>\n",
       "</table>\n",
       "</div>"
      ],
      "text/plain": [
       "                     math_score                                 \n",
       "grade                      10th       11th       12th        9th\n",
       "school_name                                                     \n",
       "Bailey High School    76.996772  77.515588  76.492218  77.083676\n",
       "Cabrera High School   83.154506  82.765560  83.277487  83.094697\n",
       "Figueroa High School  76.539974  76.884344  77.151369  76.403037\n",
       "Ford High School      77.672316  76.918058  76.179963  77.361345\n",
       "Griffin High School   84.229064  83.842105  83.356164  82.044010"
      ]
     },
     "execution_count": 38,
     "metadata": {},
     "output_type": "execute_result"
    }
   ],
   "source": [
    "#Math Scores by Grade. Create a table that lists the average Math Score for students \n",
    "#of each grade level (9th, 10th, 11th, 12th) at each school.\n",
    "math_score_grade = pd.pivot_table(school_data_combined.sort_values(by=['grade']), values=[\"math_score\"], index=[\"school_name\"],\n",
    "                   columns=['grade'], aggfunc={\"math_score\": np.mean})\n",
    "math_score_grade.head()"
   ]
  },
  {
   "cell_type": "code",
   "execution_count": 39,
   "id": "d04c14ba-bb0b-4530-9c59-9d953e93117a",
   "metadata": {},
   "outputs": [
    {
     "data": {
      "text/html": [
       "<div>\n",
       "<style scoped>\n",
       "    .dataframe tbody tr th:only-of-type {\n",
       "        vertical-align: middle;\n",
       "    }\n",
       "\n",
       "    .dataframe tbody tr th {\n",
       "        vertical-align: top;\n",
       "    }\n",
       "\n",
       "    .dataframe thead tr th {\n",
       "        text-align: left;\n",
       "    }\n",
       "\n",
       "    .dataframe thead tr:last-of-type th {\n",
       "        text-align: right;\n",
       "    }\n",
       "</style>\n",
       "<table border=\"1\" class=\"dataframe\">\n",
       "  <thead>\n",
       "    <tr>\n",
       "      <th></th>\n",
       "      <th colspan=\"4\" halign=\"left\">reading_score</th>\n",
       "    </tr>\n",
       "    <tr>\n",
       "      <th>grade</th>\n",
       "      <th>10th</th>\n",
       "      <th>11th</th>\n",
       "      <th>12th</th>\n",
       "      <th>9th</th>\n",
       "    </tr>\n",
       "    <tr>\n",
       "      <th>school_name</th>\n",
       "      <th></th>\n",
       "      <th></th>\n",
       "      <th></th>\n",
       "      <th></th>\n",
       "    </tr>\n",
       "  </thead>\n",
       "  <tbody>\n",
       "    <tr>\n",
       "      <th>Bailey High School</th>\n",
       "      <td>80.907183</td>\n",
       "      <td>80.945643</td>\n",
       "      <td>80.912451</td>\n",
       "      <td>81.303155</td>\n",
       "    </tr>\n",
       "    <tr>\n",
       "      <th>Cabrera High School</th>\n",
       "      <td>84.253219</td>\n",
       "      <td>83.788382</td>\n",
       "      <td>84.287958</td>\n",
       "      <td>83.676136</td>\n",
       "    </tr>\n",
       "    <tr>\n",
       "      <th>Figueroa High School</th>\n",
       "      <td>81.408912</td>\n",
       "      <td>80.640339</td>\n",
       "      <td>81.384863</td>\n",
       "      <td>81.198598</td>\n",
       "    </tr>\n",
       "    <tr>\n",
       "      <th>Ford High School</th>\n",
       "      <td>81.262712</td>\n",
       "      <td>80.403642</td>\n",
       "      <td>80.662338</td>\n",
       "      <td>80.632653</td>\n",
       "    </tr>\n",
       "    <tr>\n",
       "      <th>Griffin High School</th>\n",
       "      <td>83.706897</td>\n",
       "      <td>84.288089</td>\n",
       "      <td>84.013699</td>\n",
       "      <td>83.369193</td>\n",
       "    </tr>\n",
       "  </tbody>\n",
       "</table>\n",
       "</div>"
      ],
      "text/plain": [
       "                     reading_score                                 \n",
       "grade                         10th       11th       12th        9th\n",
       "school_name                                                        \n",
       "Bailey High School       80.907183  80.945643  80.912451  81.303155\n",
       "Cabrera High School      84.253219  83.788382  84.287958  83.676136\n",
       "Figueroa High School     81.408912  80.640339  81.384863  81.198598\n",
       "Ford High School         81.262712  80.403642  80.662338  80.632653\n",
       "Griffin High School      83.706897  84.288089  84.013699  83.369193"
      ]
     },
     "execution_count": 39,
     "metadata": {},
     "output_type": "execute_result"
    }
   ],
   "source": [
    "# Reading Score by Grade \n",
    "\n",
    "reading_score_grade = pd.pivot_table(school_data_combined.sort_values(by=['grade']), values=[\"reading_score\"], index=[\"school_name\"],\n",
    "                   columns=['grade'], aggfunc={\"reading_score\": np.mean})\n",
    "reading_score_grade.head()"
   ]
  },
  {
   "cell_type": "code",
   "execution_count": 41,
   "id": "456791a2-a44b-4c4d-b00b-45ee088bee66",
   "metadata": {},
   "outputs": [
    {
     "data": {
      "text/plain": [
       "655.0"
      ]
     },
     "execution_count": 41,
     "metadata": {},
     "output_type": "execute_result"
    }
   ],
   "source": [
    "## Scores by School Spending\n",
    "#Create a table that breaks down school performances based on average Spending Ranges (Per Student). \n",
    "#Use 4 reasonable bins to group school\n",
    "school_summary['Per Student Budget'].max()#figuring out the min and max for bin creation"
   ]
  },
  {
   "cell_type": "code",
   "execution_count": 50,
   "id": "2c11a7a6-dca5-4925-bf30-3f0197d0f1d4",
   "metadata": {},
   "outputs": [
    {
     "data": {
      "text/html": [
       "<div>\n",
       "<style scoped>\n",
       "    .dataframe tbody tr th:only-of-type {\n",
       "        vertical-align: middle;\n",
       "    }\n",
       "\n",
       "    .dataframe tbody tr th {\n",
       "        vertical-align: top;\n",
       "    }\n",
       "\n",
       "    .dataframe thead th {\n",
       "        text-align: right;\n",
       "    }\n",
       "</style>\n",
       "<table border=\"1\" class=\"dataframe\">\n",
       "  <thead>\n",
       "    <tr style=\"text-align: right;\">\n",
       "      <th></th>\n",
       "      <th>Average Math Score</th>\n",
       "      <th>Average Reading Score</th>\n",
       "      <th>% Passing Math</th>\n",
       "      <th>% Passing Reading</th>\n",
       "      <th>Overall Passing %</th>\n",
       "    </tr>\n",
       "    <tr>\n",
       "      <th>Spending Ranges (Per Student)</th>\n",
       "      <th></th>\n",
       "      <th></th>\n",
       "      <th></th>\n",
       "      <th></th>\n",
       "      <th></th>\n",
       "    </tr>\n",
       "  </thead>\n",
       "  <tbody>\n",
       "    <tr>\n",
       "      <th>&lt;584</th>\n",
       "      <td>83.452500</td>\n",
       "      <td>83.935000</td>\n",
       "      <td>93.460000</td>\n",
       "      <td>96.610000</td>\n",
       "      <td>90.367500</td>\n",
       "    </tr>\n",
       "    <tr>\n",
       "      <th>585-629</th>\n",
       "      <td>81.900000</td>\n",
       "      <td>83.155000</td>\n",
       "      <td>87.132500</td>\n",
       "      <td>92.717500</td>\n",
       "      <td>81.417500</td>\n",
       "    </tr>\n",
       "    <tr>\n",
       "      <th>630-644</th>\n",
       "      <td>78.517500</td>\n",
       "      <td>81.625000</td>\n",
       "      <td>73.485000</td>\n",
       "      <td>84.392500</td>\n",
       "      <td>62.857500</td>\n",
       "    </tr>\n",
       "    <tr>\n",
       "      <th>645-675</th>\n",
       "      <td>76.996667</td>\n",
       "      <td>81.026667</td>\n",
       "      <td>66.163333</td>\n",
       "      <td>81.133333</td>\n",
       "      <td>53.526667</td>\n",
       "    </tr>\n",
       "  </tbody>\n",
       "</table>\n",
       "</div>"
      ],
      "text/plain": [
       "                               Average Math Score  Average Reading Score  \\\n",
       "Spending Ranges (Per Student)                                              \n",
       "<584                                    83.452500              83.935000   \n",
       "585-629                                 81.900000              83.155000   \n",
       "630-644                                 78.517500              81.625000   \n",
       "645-675                                 76.996667              81.026667   \n",
       "\n",
       "                               % Passing Math  % Passing Reading  \\\n",
       "Spending Ranges (Per Student)                                      \n",
       "<584                                93.460000          96.610000   \n",
       "585-629                             87.132500          92.717500   \n",
       "630-644                             73.485000          84.392500   \n",
       "645-675                             66.163333          81.133333   \n",
       "\n",
       "                               Overall Passing %  \n",
       "Spending Ranges (Per Student)                     \n",
       "<584                                   90.367500  \n",
       "585-629                                81.417500  \n",
       "630-644                                62.857500  \n",
       "645-675                                53.526667  "
      ]
     },
     "execution_count": 50,
     "metadata": {},
     "output_type": "execute_result"
    }
   ],
   "source": [
    "bins=[0, 584, 629, 644, 675]# Create the names for the five bins\n",
    "bin_names = [\"<584\", \"585-629\", \"630-644\", \"645-675\"]\n",
    "\n",
    "school_summary[\"Spending Ranges (Per Student)\"] = pd.cut(school_summary[\"Per Student Budget\"], bins, labels=bin_names, include_lowest=True)\n",
    "scores_by_spend=school_summary.groupby(\"Spending Ranges (Per Student)\")\n",
    "scores_by_spend[['Average Math Score', 'Average Reading Score','% Passing Math', '% Passing Reading', 'Overall Passing %']].mean()"
   ]
  },
  {
   "cell_type": "code",
   "execution_count": 43,
   "id": "68ff3be1-dbe1-4321-a2a7-576c41aa75c6",
   "metadata": {},
   "outputs": [
    {
     "data": {
      "text/plain": [
       "4976"
      ]
     },
     "execution_count": 43,
     "metadata": {},
     "output_type": "execute_result"
    }
   ],
   "source": [
    "school_df['size'].max()#figuring out the min and max for bin creationd"
   ]
  },
  {
   "cell_type": "code",
   "execution_count": 51,
   "id": "e0de85bb-4ced-482b-b302-e6e3a091be8e",
   "metadata": {},
   "outputs": [
    {
     "data": {
      "text/html": [
       "<div>\n",
       "<style scoped>\n",
       "    .dataframe tbody tr th:only-of-type {\n",
       "        vertical-align: middle;\n",
       "    }\n",
       "\n",
       "    .dataframe tbody tr th {\n",
       "        vertical-align: top;\n",
       "    }\n",
       "\n",
       "    .dataframe thead th {\n",
       "        text-align: right;\n",
       "    }\n",
       "</style>\n",
       "<table border=\"1\" class=\"dataframe\">\n",
       "  <thead>\n",
       "    <tr style=\"text-align: right;\">\n",
       "      <th></th>\n",
       "      <th>Average Math Score</th>\n",
       "      <th>Average Reading Score</th>\n",
       "      <th>% Passing Math</th>\n",
       "      <th>% Passing Reading</th>\n",
       "      <th>Overall Passing %</th>\n",
       "    </tr>\n",
       "    <tr>\n",
       "      <th>School Size</th>\n",
       "      <th></th>\n",
       "      <th></th>\n",
       "      <th></th>\n",
       "      <th></th>\n",
       "      <th></th>\n",
       "    </tr>\n",
       "  </thead>\n",
       "  <tbody>\n",
       "    <tr>\n",
       "      <th>Small (&lt;1000)</th>\n",
       "      <td>83.820</td>\n",
       "      <td>83.92500</td>\n",
       "      <td>93.55000</td>\n",
       "      <td>96.10000</td>\n",
       "      <td>89.885</td>\n",
       "    </tr>\n",
       "    <tr>\n",
       "      <th>Medium  (1000-2000)</th>\n",
       "      <td>83.374</td>\n",
       "      <td>83.86800</td>\n",
       "      <td>93.59800</td>\n",
       "      <td>96.79000</td>\n",
       "      <td>90.620</td>\n",
       "    </tr>\n",
       "    <tr>\n",
       "      <th>Large (2000-5000)</th>\n",
       "      <td>77.745</td>\n",
       "      <td>81.34375</td>\n",
       "      <td>69.96375</td>\n",
       "      <td>82.76625</td>\n",
       "      <td>58.285</td>\n",
       "    </tr>\n",
       "  </tbody>\n",
       "</table>\n",
       "</div>"
      ],
      "text/plain": [
       "                     Average Math Score  Average Reading Score  \\\n",
       "School Size                                                      \n",
       "Small (<1000)                    83.820               83.92500   \n",
       "Medium  (1000-2000)              83.374               83.86800   \n",
       "Large (2000-5000)                77.745               81.34375   \n",
       "\n",
       "                     % Passing Math  % Passing Reading  Overall Passing %  \n",
       "School Size                                                                \n",
       "Small (<1000)              93.55000           96.10000             89.885  \n",
       "Medium  (1000-2000)        93.59800           96.79000             90.620  \n",
       "Large (2000-5000)          69.96375           82.76625             58.285  "
      ]
     },
     "execution_count": 51,
     "metadata": {},
     "output_type": "execute_result"
    }
   ],
   "source": [
    "#Scores by School Size\n",
    "#Repeat the above breakdown, but this time group schools\n",
    "#based on a reasonable approximation of school size (Small, Medium, Large).\n",
    "\n",
    "bins=[0, 1000, 2000, 5000]\n",
    "bin_names = [\"Small (<1000)\", \"Medium  (1000-2000)\", \"Large (2000-5000)\" ]\n",
    "\n",
    "school_summary[\"School Size\"] = pd.cut(school_summary['Total Students'], bins, labels=bin_names, include_lowest=True)\n",
    "scores_by_size=school_summary.groupby(\"School Size\")\n",
    "scores_by_size[['Average Math Score', 'Average Reading Score','% Passing Math', '% Passing Reading', 'Overall Passing %']].mean()"
   ]
  },
  {
   "cell_type": "code",
   "execution_count": null,
   "id": "b883118b-4e9c-43cc-b7eb-9b696cece9d0",
   "metadata": {},
   "outputs": [],
   "source": [
    "## Scores by School Type"
   ]
  },
  {
   "cell_type": "code",
   "execution_count": 52,
   "id": "807cab35-ded9-4055-8dc8-9ae31b5238c4",
   "metadata": {},
   "outputs": [
    {
     "data": {
      "text/html": [
       "<div>\n",
       "<style scoped>\n",
       "    .dataframe tbody tr th:only-of-type {\n",
       "        vertical-align: middle;\n",
       "    }\n",
       "\n",
       "    .dataframe tbody tr th {\n",
       "        vertical-align: top;\n",
       "    }\n",
       "\n",
       "    .dataframe thead th {\n",
       "        text-align: right;\n",
       "    }\n",
       "</style>\n",
       "<table border=\"1\" class=\"dataframe\">\n",
       "  <thead>\n",
       "    <tr style=\"text-align: right;\">\n",
       "      <th></th>\n",
       "      <th>Average Math Score</th>\n",
       "      <th>Average Reading Score</th>\n",
       "      <th>% Passing Math</th>\n",
       "      <th>% Passing Reading</th>\n",
       "      <th>Overall Passing %</th>\n",
       "    </tr>\n",
       "    <tr>\n",
       "      <th>School Type</th>\n",
       "      <th></th>\n",
       "      <th></th>\n",
       "      <th></th>\n",
       "      <th></th>\n",
       "      <th></th>\n",
       "    </tr>\n",
       "  </thead>\n",
       "  <tbody>\n",
       "    <tr>\n",
       "      <th>Charter</th>\n",
       "      <td>83.472500</td>\n",
       "      <td>83.897500</td>\n",
       "      <td>93.620000</td>\n",
       "      <td>96.586250</td>\n",
       "      <td>90.431250</td>\n",
       "    </tr>\n",
       "    <tr>\n",
       "      <th>District</th>\n",
       "      <td>76.955714</td>\n",
       "      <td>80.965714</td>\n",
       "      <td>66.548571</td>\n",
       "      <td>80.798571</td>\n",
       "      <td>53.671429</td>\n",
       "    </tr>\n",
       "  </tbody>\n",
       "</table>\n",
       "</div>"
      ],
      "text/plain": [
       "             Average Math Score  Average Reading Score  % Passing Math  \\\n",
       "School Type                                                              \n",
       "Charter               83.472500              83.897500       93.620000   \n",
       "District              76.955714              80.965714       66.548571   \n",
       "\n",
       "             % Passing Reading  Overall Passing %  \n",
       "School Type                                        \n",
       "Charter              96.586250          90.431250  \n",
       "District             80.798571          53.671429  "
      ]
     },
     "execution_count": 52,
     "metadata": {},
     "output_type": "execute_result"
    }
   ],
   "source": [
    "school_summary.groupby([\"School Type\"])[['Average Math Score', 'Average Reading Score','% Passing Math', '% Passing Reading', 'Overall Passing %']].mean()"
   ]
  },
  {
   "cell_type": "code",
   "execution_count": null,
   "id": "60e4c1f0-a314-4798-acd1-f28c54af309a",
   "metadata": {},
   "outputs": [],
   "source": []
  }
 ],
 "metadata": {
  "kernelspec": {
   "display_name": "Python 3",
   "language": "python",
   "name": "python3"
  },
  "language_info": {
   "codemirror_mode": {
    "name": "ipython",
    "version": 3
   },
   "file_extension": ".py",
   "mimetype": "text/x-python",
   "name": "python",
   "nbconvert_exporter": "python",
   "pygments_lexer": "ipython3",
   "version": "3.9.5"
  }
 },
 "nbformat": 4,
 "nbformat_minor": 5
}
